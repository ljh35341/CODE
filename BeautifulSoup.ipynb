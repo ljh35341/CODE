{
 "cells": [
  {
   "cell_type": "markdown",
   "metadata": {},
   "source": [
    "# 여러가지 < Tag > 동시에 find\n",
    "- find_all(['< tag >', '< tag >'])\n",
    "- 출처:왕초보! 파이썬 배워 크롤러 DIY 하다! p288"
   ]
  },
  {
   "cell_type": "code",
   "execution_count": 12,
   "metadata": {},
   "outputs": [],
   "source": [
    "from bs4 import BeautifulSoup as bs\n",
    "from urllib.request import urlopen\n",
    "\n",
    "url = \"https://dart.fss.or.kr\"\n",
    "html =urlopen(url)\n",
    "\n",
    "bsObj = bs(html, 'html.parser')\n",
    "\n",
    "body_tag = bsObj.find('body')\n",
    "list = body_tag.find_all(['p','img']) # List형식으로 찾고 싶은 tag를 넣어주면 됩니다.\n",
    "\n",
    "result = []\n",
    "for tag in list:\n",
    "    result.append(tag)"
   ]
  },
  {
   "cell_type": "code",
   "execution_count": 14,
   "metadata": {},
   "outputs": [
    {
     "data": {
      "text/plain": [
       "[<p id=\"accessibility\"><a href=\"#layoutVisual\">본문 바로가기</a></p>,\n",
       " <img alt=\"오픈다트 시범운영 안내\" border=\"0\" id=\"topBanner\" src=\"/images/banner/top_banner_opendart.png\" usemap=\"#Map\"/>,\n",
       " <img alt=\"대한민국 기업정보의 창 DART\" src=\"/images/common/logo.gif\"/>,\n",
       " <p class=\"utill utill_main\">\n",
       " <a href=\"/dsag002/loginForm.do\"><img alt=\"로그인\" src=\"/images/common/utill_login.gif\" title=\"로그인\"/></a>\n",
       " <a href=\"/dsag003/main.do\"><img alt=\"마이페이지\" src=\"/images/common/utill_mypage.gif\" title=\"마이페이지\"/></a>\n",
       " <a href=\"/dsaa003/searchGuide.do\"><img alt=\"공시업무\" src=\"/images/common/utill_gongsi.gif\" title=\"공시업무\"/></a>\n",
       " <a href=\"/introduction/content1.do\"><img alt=\"다트소개\" src=\"/images/common/utill_intro.gif\" title=\"다트소개\"/></a>\n",
       " <a href=\"/dsap001/intro.do\"><img alt=\"오픈API\" src=\"/images/common/utill_openapi.gif\" title=\"오픈API\"/></a>\n",
       " <a href=\"/introduction/content6.do\"><img alt=\"RSS이용안내\" src=\"/images/common/utill_rss.gif\" title=\"RSS이용안내\"/></a>\n",
       " <a class=\"end\" href=\"/sitemap.do\"><img alt=\"사이트맵\" src=\"/images/common/utill_sitemap.gif\" title=\"사이트맵\"/></a>\n",
       " </p>,\n",
       " <img alt=\"로그인\" src=\"/images/common/utill_login.gif\" title=\"로그인\"/>]"
      ]
     },
     "execution_count": 14,
     "metadata": {},
     "output_type": "execute_result"
    }
   ],
   "source": [
    "result[:5]"
   ]
  },
  {
   "cell_type": "markdown",
   "metadata": {},
   "source": [
    "- Example 2\n",
    "- 참고: RSS-DART-NEWS"
   ]
  },
  {
   "cell_type": "code",
   "execution_count": 10,
   "metadata": {},
   "outputs": [
    {
     "name": "stdout",
     "output_type": "stream",
     "text": [
      "<title>DART : (코스닥)에이치엘비의 공시</title>\n",
      "<title>(코스닥)에이치엘비 - 매출액또는손익구조30%(대규모법인은15%)이상변동</title>\n",
      "<guid>http://dart.fss.or.kr/api/link.jsp?rcpNo=20200219900730</guid>\n",
      "<title>(코스닥)에이치엘비 - 타법인주식및출자증권취득결정</title>\n",
      "<guid>http://dart.fss.or.kr/api/link.jsp?rcpNo=20200219900631</guid>\n"
     ]
    }
   ],
   "source": [
    "from bs4 import BeautifulSoup as bs\n",
    "from urllib.request import urlopen\n",
    "\n",
    "url = \"http://dart.fss.or.kr/api/companyRSS.xml?crpCd=00199252\"\n",
    "html =urlopen(url)\n",
    "\n",
    "bsObj = bs(html, 'html.parser')\n",
    "\n",
    "body_tag = bsObj.find('')\n",
    "list = body_tag.find_all(['title','guid']) \n",
    "\n",
    "for tag in list:\n",
    "    print(tag)"
   ]
  },
  {
   "cell_type": "markdown",
   "metadata": {},
   "source": [
    "- Exmaple 3\n",
    "- 참고: RSS-DART-NEWS"
   ]
  },
  {
   "cell_type": "code",
   "execution_count": 16,
   "metadata": {},
   "outputs": [
    {
     "name": "stdout",
     "output_type": "stream",
     "text": [
      "DART : (코스닥)에이치엘비의 공시\n",
      "(코스닥)에이치엘비 - 매출액또는손익구조30%(대규모법인은15%)이상변동\n",
      "http://dart.fss.or.kr/api/link.jsp?rcpNo=20200219900730\n",
      "(코스닥)에이치엘비 - 타법인주식및출자증권취득결정\n",
      "http://dart.fss.or.kr/api/link.jsp?rcpNo=20200219900631\n"
     ]
    }
   ],
   "source": [
    "from bs4 import BeautifulSoup as bs\n",
    "from urllib.request import urlopen\n",
    "\n",
    "url = \"http://dart.fss.or.kr/api/companyRSS.xml?crpCd=00199252\"\n",
    "html =urlopen(url)\n",
    "\n",
    "bsObj = bs(html, 'html.parser')\n",
    "\n",
    "body_tag = bsObj.find('')\n",
    "list = body_tag.find_all(['title','guid']) \n",
    "\n",
    "for tag in list:\n",
    "    print(tag.text)"
   ]
  },
  {
   "cell_type": "code",
   "execution_count": null,
   "metadata": {},
   "outputs": [],
   "source": []
  }
 ],
 "metadata": {
  "kernelspec": {
   "display_name": "Python 3",
   "language": "python",
   "name": "python3"
  },
  "language_info": {
   "codemirror_mode": {
    "name": "ipython",
    "version": 3
   },
   "file_extension": ".py",
   "mimetype": "text/x-python",
   "name": "python",
   "nbconvert_exporter": "python",
   "pygments_lexer": "ipython3",
   "version": "3.7.3"
  }
 },
 "nbformat": 4,
 "nbformat_minor": 2
}
