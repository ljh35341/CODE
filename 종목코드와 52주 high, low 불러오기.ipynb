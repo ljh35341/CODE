{
 "cells": [
  {
   "cell_type": "markdown",
   "metadata": {},
   "source": [
    "# 종목코드와 52주 high, low 불러오기"
   ]
  },
  {
   "cell_type": "code",
   "execution_count": 2,
   "metadata": {},
   "outputs": [],
   "source": [
    "import numpy as np\n",
    "import pandas as pd\n",
    "import FinanceDataReader as fdr\n",
    "\n",
    "df_krx = fdr.StockListing('KRX')\n",
    "\n",
    "df_index = df_krx['Name']\n",
    "find_index = df_index.values.tolist()"
   ]
  },
  {
   "cell_type": "code",
   "execution_count": 34,
   "metadata": {},
   "outputs": [
    {
     "name": "stdout",
     "output_type": "stream",
     "text": [
      "종목명을 입력하세요: e\n",
      "존재하지 않는 기업입니다. 영어를 대문자로 입력하세요. ap시스템(X) → AP시스템(O)\n"
     ]
    }
   ],
   "source": [
    "try:\n",
    "    firm_name = input(\"종목명을 입력하세요: \")\n",
    "    index = find_index.index(firm_name)\n",
    "    code = df_krx['Symbol'].loc[index]\n",
    "except ValueError as e:\n",
    "    print('존재하지 않는 기업입니다. 영어를 대문자로 입력하세요. ap시스템(X) → AP시스템(O)')"
   ]
  },
  {
   "cell_type": "code",
   "execution_count": 20,
   "metadata": {},
   "outputs": [],
   "source": [
    "import requests\n",
    "from bs4 import BeautifulSoup\n",
    "high = []\n",
    "low = []\n",
    "mean = []\n",
    "url = \"https://finance.naver.com/item/coinfo.nhn?code=\"+ code\n",
    "res = requests.get(url)\n",
    "soup = BeautifulSoup(res.content, 'lxml')\n",
    "price = soup.find_all('td')\n",
    "price = price[14].find_all('em')\n",
    "\n",
    "try:\n",
    "    h = int(price[0].text.replace(',',''))\n",
    "    l = int(price[1].text.replace(',',''))\n",
    "    m = int((h+l)/2)\n",
    "except:\n",
    "    h = 0\n",
    "    l = 0\n",
    "    m = 0\n",
    "\n",
    "high.append(h)\n",
    "low.append(l)\n",
    "mean.append(m)"
   ]
  },
  {
   "cell_type": "code",
   "execution_count": 21,
   "metadata": {
    "scrolled": true
   },
   "outputs": [],
   "source": [
    "df_final = df_krx.loc[index]"
   ]
  },
  {
   "cell_type": "code",
   "execution_count": 22,
   "metadata": {},
   "outputs": [],
   "source": [
    "s1 = pd.Series(high, index=['high'])\n",
    "s2 = pd.Series(low, index=['low'])\n",
    "s3 = pd.Series(mean, index=['mean'])"
   ]
  },
  {
   "cell_type": "code",
   "execution_count": 23,
   "metadata": {
    "scrolled": true
   },
   "outputs": [],
   "source": [
    "df_final = df_final.append(s1)\n",
    "df_final = df_final.append(s2)\n",
    "df_final = df_final.append(s3)"
   ]
  },
  {
   "cell_type": "code",
   "execution_count": 24,
   "metadata": {
    "scrolled": true
   },
   "outputs": [
    {
     "data": {
      "text/plain": [
       "Symbol                                                       005930\n",
       "Market                                                        KOSPI\n",
       "Name                                                           삼성전자\n",
       "Sector                                               통신 및 방송 장비 제조업\n",
       "Industry          IMT2000 서비스용 동기식 기지국,교환국장비,데이터단말기,동영상휴대폰,핵심칩,반...\n",
       "ListingDate                                     1975-06-11 00:00:00\n",
       "SettleMonth                                                     12월\n",
       "Representative                                        김기남, 김현석, 고동진\n",
       "HomePage                                       http://www.sec.co.kr\n",
       "Region                                                          경기도\n",
       "high                                                          62800\n",
       "low                                                           42300\n",
       "mean                                                          52550\n",
       "dtype: object"
      ]
     },
     "execution_count": 24,
     "metadata": {},
     "output_type": "execute_result"
    }
   ],
   "source": [
    "df_final"
   ]
  },
  {
   "cell_type": "code",
   "execution_count": 25,
   "metadata": {},
   "outputs": [],
   "source": [
    "df_final = pd.DataFrame(df_final).transpose()"
   ]
  },
  {
   "cell_type": "code",
   "execution_count": 27,
   "metadata": {
    "scrolled": true
   },
   "outputs": [],
   "source": [
    "df_before = pd.read_excel('주식.xlsx', index_col=0)"
   ]
  },
  {
   "cell_type": "code",
   "execution_count": 28,
   "metadata": {},
   "outputs": [],
   "source": [
    "df = pd.concat([df_final, df_before])"
   ]
  },
  {
   "cell_type": "code",
   "execution_count": 29,
   "metadata": {},
   "outputs": [],
   "source": [
    "df.to_excel(\"주식.xlsx\")"
   ]
  }
 ],
 "metadata": {
  "kernelspec": {
   "display_name": "Python 3",
   "language": "python",
   "name": "python3"
  },
  "language_info": {
   "codemirror_mode": {
    "name": "ipython",
    "version": 3
   },
   "file_extension": ".py",
   "mimetype": "text/x-python",
   "name": "python",
   "nbconvert_exporter": "python",
   "pygments_lexer": "ipython3",
   "version": "3.8.3"
  }
 },
 "nbformat": 4,
 "nbformat_minor": 4
}
