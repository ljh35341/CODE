{
 "cells": [
  {
   "cell_type": "markdown",
   "metadata": {},
   "source": [
    "# response\n",
    "- 출처: https://dgkim5360.tistory.com/entry/python-requests"
   ]
  },
  {
   "cell_type": "code",
   "execution_count": 40,
   "metadata": {},
   "outputs": [],
   "source": [
    "import requests\n",
    "URL = 'http://www.tistory.com'\n",
    "response = requests.get(URL)"
   ]
  },
  {
   "cell_type": "code",
   "execution_count": 24,
   "metadata": {},
   "outputs": [
    {
     "data": {
      "text/plain": [
       "<Response [200]>"
      ]
     },
     "execution_count": 24,
     "metadata": {},
     "output_type": "execute_result"
    }
   ],
   "source": [
    "response"
   ]
  },
  {
   "cell_type": "code",
   "execution_count": 25,
   "metadata": {},
   "outputs": [
    {
     "data": {
      "text/plain": [
       "200"
      ]
     },
     "execution_count": 25,
     "metadata": {},
     "output_type": "execute_result"
    }
   ],
   "source": [
    "response.status_code"
   ]
  },
  {
   "cell_type": "code",
   "execution_count": 26,
   "metadata": {},
   "outputs": [
    {
     "data": {
      "text/plain": [
       "'\\n\\t<!doctype html>\\n\\t<html lang=\"ko\">\\n\\t<head>\\n\\t\\t<meta charset=\"utf-8\">\\n\\t\\t<meta property=\"og:url\" content=\"https://www.tistory.com\">\\n\\t\\t<meta property=\"og:site_name\" content=\"TISTORY\">\\n\\t\\t<meta property=\"og:title\" content=\"TISTORY\">\\n\\t\\t<meta property=\"og:description\" content=\"나를 표현하는 블로그를 만들어보세요.\">\\n\\t\\t<meta property=\"og:image\" content=\"//t1.daumcdn.net/tistory_admin/static/images/openGraph/opengraph.png\">\\n\\t\\t<title>TISTORY</title>\\n\\t\\t<link rel=\"shortcut icon\" href=\"//t1.daumcdn.net/tistory_admin/static/top/favicon.ico\">\\n\\t\\t<link rel=\"apple-touch-icon\" href=\"//t1.daumcdn.net/tistory_admin/static/images/openGraph/180x180.png\">\\n\\t\\t<link rel=\"apple-touch-icon\" sizes=\"76x76\" href=\"//t1.daumcdn.net/tistory_admin/static/images/openGraph/76x76.png\">\\n\\t\\t<link rel=\"apple-touch-icon\" sizes=\"120x120\" href=\"//t1.daumcdn.net/tistory_admin/static/images/openGraph/120x120.png\">\\n\\t\\t<link rel=\"apple-touch-icon\" sizes=\"152x152\" href=\"//t1.daumcdn.net/tistory_admin/static/images/openGraph/152x152.png\">\\n\\t\\t<link rel=\"stylesheet\" type=\"text/css\" href=\"//t1.daumcdn.net/tistory_admin/assets/tistory-web-top/1582014193/static/css/ext/swiper.min.css\">\\n\\t\\t<link rel=\"stylesheet\" type=\"text/css\" href=\"//t1.daumcdn.net/tistory_admin/www/style/top/font.css\">\\n\\t\\t<link rel=\"stylesheet\" type=\"text/css\" href=\"https://t1.daumcdn.net/tistory_admin/assets/tistory-gnb/3.1.9/gnb.min.css\">\\n\\t\\t<link rel=\"stylesheet\" type=\"text/css\" href=\"//t1.daumcdn.net/tistory_admin/assets/tistory-web-top/1582014193/static/css/pc/top.css\">\\n<!--[if lt IE 9]>\\n<script src=\"https://t1.daumcdn.net/tistory_admin/lib/jquery-1.12.4.min.js\"></script>\\n<![endif]-->\\n<!--[if gte IE 9]><!-->\\n<script src=\"https://t1.daumcdn.net/tistory_admin/lib/jquery-3.1.0.min.js\"></script>\\n<!--<![endif]-->\\n<script src=\"https://t1.daumcdn.net/tistory_admin/lib/fingerprint2-1.4.2.min.js\"></script>\\n<script type=\"text/javascript\" src=\"//m1.daumcdn.net/svc/original/U03/cssjs/jquery/plugin/jquery.cookie-1.4.0.min.js\"></script>\\n<script type=\"text/javascript\" src=\"//s1.daumcdn.net/svc/original/U03/cssjs/userAgent/userAgent-1.0.14.min.js\"></script>\\n\\t</head>\\n\\t<body>\\n\\t\\t<div id=\"kakaoIndex\"><!-- 웹접근성용 바로가기 링크 모음 -->\\n\\t\\t\\t<a href=\"#kakaoBody\">본문 바로가기</a>\\n\\t\\t\\t<a href=\"#kakaoLnb\">메뉴 바로가기</a> <!-- 2017-05-31 수정 : href 값 kakaoGnb -> kakaoLnb 로 변경 -->\\n\\t\\t</div>\\n\\t\\t\\n\\t\\t<div id=\"kakaoWrap\" class=\"tistory_type1\">\\n\\t\\t\\t<div id=\"kakaoHead\" role=\"banner\" class=\"#GNB kakao_head\"><!-- head_type1 : 추가타입 -->\\n<div class=\"inner_header\">\\n\\t<h1>\\n\\t\\t<a href=\"/\" id=\"kakaoServiceLogo\" class=\"#logo img_common_tistory tit_tistory\">티스토리</a>\\n\\t</h1>\\n\\t<div id=\"kakaoGnb\" role=\"navigation\" class=\"gnb_tistory\">\\n\\t\\t<h2 class=\"screen_out\">서비스 주요 메뉴</h2>\\n\\t\\t<ul class=\"list_gnb\">\\n\\t\\t\\t<li ><a href=\"/feed\" class=\"link_gnb\">피드</a></li>\\n\\t\\t\\t<li ><a href=\"/category\" class=\"link_gnb\">스토리</a></li>\\n\\t\\t\\t<li ><a href=\"/skin\" class=\"link_gnb\">스킨</a></li>\\n\\t\\t\\t<li ><a href=\"/community\" class=\"link_gnb\">포럼</a></li>\\n\\t\\t</ul>\\n\\t</div>\\n\\t<div class=\"info_tistory\">\\n\\t\\t<div class=\"logn_tistory\" style=\"display:none\">\\n\\t\\t\\t<h2 class=\"screen_out\">로그인정보</h2>\\n\\t\\t\\t<a href=\"/auth/login?redirectUrl=http%3A%2F%2Fwww.tistory.com%2F\" class=\"link_log_info\">로그인하기</a>\\n\\t\\t\\t<a href=\"/member/join\" class=\"btn_tistory btn_log_info\">가입하기</a>\\n\\t\\t</div>\\n\\t</div>\\n</div>\\n\\t\\t\\t</div>\\n\\t\\t\\t<hr class=\"hide\">\\n\\t\\t\\t<div id=\"kakaoContent\" role=\"main\">\\n\\t\\t\\t\\t<div id=\"cMain\">\\n\\t\\t\\t\\t\\t\\n<div id=\"mFeature\" class=\"feture_main feture_top\">\\n\\t<h2 class=\"screen_out\">PRPMOTION</h2>\\n\\t<div class=\"swiper-container\">\\n\\t\\t<div class=\"swiper-wrapper main_slide\">\\n\\t\\t\\t\\t<div class=\"swiper-slide scene_slide white init_slide\" style=\"background-image:url(https://img1.daumcdn.net/thumb/R1920x0/?scode=mtistory2&fname=https%3A%2F%2Ft1.daumcdn.net%2Fsection%2Foc%2F8532fb82eed84069a36fa0f05170557c)\">\\n\\t\\t\\t\\t\\t<div class=\"dimm_g_type2\"></div>\\n\\t\\t\\t\\t\\t<div class=\"scene_content\">\\n\\t\\t\\t\\t\\t\\t<div class=\"inner_scene\">\\n\\t\\t\\t\\t\\t\\t\\t<div class=\"scene_tistory scene_tistory_type2\">\\n\\t\\t\\t\\t\\t\\t\\t\\t\\t<strong class=\"tit_scene\">티스토리 앱 2.0<br>\\n<b>업데이트</b></strong>\\n\\t\\t\\t\\t\\t\\t\\t\\t\\t<p class=\"desc_scene\">모바일에서도 편리한 블로그 관리를 위해<br>티스토리 앱이 새 옷을 입었습니다.</p>\\n\\t\\t\\t\\t\\t\\t\\t\\t\\t<div class=\"wrap_btn\"><a href=\"https://notice.tistory.com/2523\" class=\"btn_tistory \">자세히 보기</a></div>\\n\\t\\t\\t\\t\\t\\t\\t</div>\\n\\t\\t\\t\\t\\t\\t</div>\\n\\t\\t\\t\\t\\t</div>\\n\\t\\t\\t\\t</div>\\n\\t\\t\\t\\t\\t<div class=\"swiper-slide scene_slide  \"  style=\"background-image:url(https://img1.daumcdn.net/thumb/R1920x0/?scode=mtistory2&fname=https%3A%2F%2Ft1.daumcdn.net%2Ftistory_admin%2Fassets%2Fpromotions%2Fff86e2b3f7794c0c8ef53f73262e11e1)\">\\n\\t\\t\\t\\t\\t\\t<div class=\"dimm_g_type2\"></div>\\n\\t\\t\\t\\t\\t\\t<a href=\"https://notice.tistory.com/2478\" target=\"_blank\" class=\"btn_video\"></a>\\n\\t\\t\\t\\t\\t</div>\\n\\t\\t\\t\\t<div class=\"swiper-slide scene_slide white \" style=\"background-image:url(https://img1.daumcdn.net/thumb/R1920x0/?scode=mtistory2&fname=https%3A%2F%2Ft1.daumcdn.net%2Ftistory_admin%2Fassets%2Fpromotions%2F2c00ce9412d1422e89115b07cb34d4f2)\">\\n\\t\\t\\t\\t\\t<div class=\"dimm_g_type2\"></div>\\n\\t\\t\\t\\t\\t<div class=\"scene_content\">\\n\\t\\t\\t\\t\\t\\t<div class=\"inner_scene\">\\n\\t\\t\\t\\t\\t\\t\\t<div class=\"scene_tistory scene_tistory_type2\">\\n\\t\\t\\t\\t\\t\\t\\t\\t\\t<strong class=\"tit_scene\">입맛대로<br><b>사이트 스타일링</b></strong>\\n\\t\\t\\t\\t\\t\\t\\t\\t\\t<p class=\"desc_scene\">신상 스킨 입점, 커버로 내 사이트를<br>\\n멋지게 스타일링 하세요.\\n\\n</p>\\n\\t\\t\\t\\t\\t\\t\\t\\t\\t<div class=\"wrap_btn\"><a href=\"https://www.tistory.com/skin\" class=\"btn_tistory \">새 스킨 보러 가기</a></div>\\n\\t\\t\\t\\t\\t\\t\\t</div>\\n\\t\\t\\t\\t\\t\\t</div>\\n\\t\\t\\t\\t\\t</div>\\n\\t\\t\\t\\t</div>\\n\\t\\t\\t\\t\\t<div class=\"swiper-slide scene_slide white\" style=\"background-image:url(//t1.daumcdn.net/tistory_admin/static/top/pc/bg_scene03.jpg)\">\\n\\t\\t\\t\\t\\t\\t<div class=\"dimm_g_type2\"></div>\\n\\t\\t\\t\\t\\t\\t<video id=\"videoPrm\" preload muted autoplay>\\n\\t\\t\\t\\t\\t\\t\\t<source src=\"https://t1.daumcdn.net/tistory_admin/top/top_tistory.mp4\" type=\"video/mp4\">\\n\\t\\t\\t\\t\\t\\t</video>\\n\\t\\t\\t\\t\\t\\t<button type=\"button\" class=\"btn_video\"></button>\\n\\t\\t\\t\\t\\t</div>\\n\\t\\t</div>\\n\\t\\t<button type=\"button\" class=\"btn_scene btn_prev\">\\n\\t\\t\\t<span class=\"img_top ico_prev ico_prev_type1\">이전</span>\\n\\t\\t\\t<span class=\"img_top ico_prev ico_prev_type2\"></span>\\n\\t\\t</button>\\n\\t\\t<button type=\"button\" class=\"btn_scene btn_next\">\\n\\t\\t\\t<span class=\"img_top ico_next ico_next_type1\">다음</span>\\n\\t\\t\\t<span class=\"img_top ico_next ico_next_type2\"></span>\\n\\t\\t</button>\\n\\t</div>\\n</div>\\n<div id=\"mArticle\">\\n\\t<div class=\"section_content section_showcase\">\\n\\t\\t<h2 class=\"screen_out\">SHOWCASE</h2>\\n\\t\\t<div class=\"wrap_tit\">\\n\\t\\t\\t<strong class=\"tit_section\">이 놀라운 사이트들이<br><em>모두 <span class=\"txt_da\">다</span>티스토리</em>라는 사실</strong>\\n\\t\\t\\t<p class=\"desc_section\">티스토리는 그저 공간일 뿐이에요. 그 공간에 무슨일이 일어날지는 아무도 상상할 수 없죠.</p>\\n\\t\\t</div>\\n\\t\\t<div class=\"case_list\">\\n\\t\\t\\t<div class=\"inner_case\">\\n\\t\\t\\t\\t<div class=\"slide_case\" style=\"width:50000px\">\\n\\t\\t\\t\\t\\t\\t<a class=\"site_exam\" href=\"http://busanbusapp.tistory.com/\" target=\"_blank\">\\n\\t\\t\\t\\t\\t\\t\\t<div class=\"wrap_thumb\">\\n\\t\\t\\t\\t\\t\\t\\t\\t<img width=\"528\" height=\"396\" src=\"https://img1.daumcdn.net/thumb/C1200x900/?scode=mtistory2&fname=http%3A%2F%2Fcfile23.uf.tistory.com%2Fimage%2F991CFB3B5BB2C629215529\" class=\"thumb_g\" alt=\"\" />\\n\\t\\t\\t\\t\\t\\t\\t</div>\\n\\t\\t\\t\\t\\t\\t\\t<div class=\"info_exam\">\\n\\t\\t\\t\\t\\t\\t\\t\\t<strong class=\"tit_exam\">부산버스앱</strong>\\n\\t\\t\\t\\t\\t\\t\\t\\t<p class=\"txt_exam\">부산 노선정보 및 실시간 도착정보 알림</p>\\n\\t\\t\\t\\t\\t\\t\\t\\t<span class=\"link_exam\">http://busanbusapp.tistory.com/<span class=\"img_top ico_view\"></span></span>\\n\\t\\t\\t\\t\\t\\t\\t</div>\\n\\t\\t\\t\\t\\t\\t</a>\\n\\t\\t\\t\\t\\t\\t<a class=\"site_exam\" href=\"http://so-oh.tistory.com/category\" target=\"_blank\">\\n\\t\\t\\t\\t\\t\\t\\t<div class=\"wrap_thumb\">\\n\\t\\t\\t\\t\\t\\t\\t\\t<img width=\"528\" height=\"396\" src=\"https://img1.daumcdn.net/thumb/C1200x900/?scode=mtistory2&fname=http%3A%2F%2Fcfile1.uf.tistory.com%2Fimage%2F99368F335BB2C64F29335D\" class=\"thumb_g\" alt=\"\" />\\n\\t\\t\\t\\t\\t\\t\\t</div>\\n\\t\\t\\t\\t\\t\\t\\t<div class=\"info_exam\">\\n\\t\\t\\t\\t\\t\\t\\t\\t<strong class=\"tit_exam\">yunscent</strong>\\n\\t\\t\\t\\t\\t\\t\\t\\t<p class=\"txt_exam\">사진이 그림이 됩니다.</p>\\n\\t\\t\\t\\t\\t\\t\\t\\t<span class=\"link_exam\">http://so-oh.tistory.com/category<span class=\"img_top ico_view\"></span></span>\\n\\t\\t\\t\\t\\t\\t\\t</div>\\n\\t\\t\\t\\t\\t\\t</a>\\n\\t\\t\\t\\t\\t\\t<a class=\"site_exam\" href=\"http://mistyfriday.kr/\" target=\"_blank\">\\n\\t\\t\\t\\t\\t\\t\\t<div class=\"wrap_thumb\">\\n\\t\\t\\t\\t\\t\\t\\t\\t<img width=\"528\" height=\"396\" src=\"https://img1.daumcdn.net/thumb/C1200x900/?scode=mtistory2&fname=http%3A%2F%2Fcfile2.uf.tistory.com%2Fimage%2F996CC03C5BB2C66823DA6C\" class=\"thumb_g\" alt=\"\" />\\n\\t\\t\\t\\t\\t\\t\\t</div>\\n\\t\\t\\t\\t\\t\\t\\t<div class=\"info_exam\">\\n\\t\\t\\t\\t\\t\\t\\t\\t<strong class=\"tit_exam\">빛으로 쓴 편지</strong>\\n\\t\\t\\t\\t\\t\\t\\t\\t<p class=\"txt_exam\">여행하고 글을 씁니다.</p>\\n\\t\\t\\t\\t\\t\\t\\t\\t<span class=\"link_exam\">http://mistyfriday.kr/<span class=\"img_top ico_view\"></span></span>\\n\\t\\t\\t\\t\\t\\t\\t</div>\\n\\t\\t\\t\\t\\t\\t</a>\\n\\t\\t\\t\\t\\t\\t<a class=\"site_exam\" href=\"http://blogview.hyundaicardcapital.com/\" target=\"_blank\">\\n\\t\\t\\t\\t\\t\\t\\t<div class=\"wrap_thumb\">\\n\\t\\t\\t\\t\\t\\t\\t\\t<img width=\"528\" height=\"396\" src=\"https://img1.daumcdn.net/thumb/C1200x900/?scode=mtistory2&fname=https%3A%2F%2Ft1.daumcdn.net%2Ftistory_admin%2Fassets%2Fpromotions%2F5b824e346e6245beac1efe50b7638b04\" class=\"thumb_g\" alt=\"\" />\\n\\t\\t\\t\\t\\t\\t\\t</div>\\n\\t\\t\\t\\t\\t\\t\\t<div class=\"info_exam\">\\n\\t\\t\\t\\t\\t\\t\\t\\t<strong class=\"tit_exam\">현대카드 현대캐피탈 블로그</strong>\\n\\t\\t\\t\\t\\t\\t\\t\\t<p class=\"txt_exam\">현대카드 현대캐피탈 공식 블로그</p>\\n\\t\\t\\t\\t\\t\\t\\t\\t<span class=\"link_exam\">http://blogview.hyundaicardcapital.com/<span class=\"img_top ico_view\"></span></span>\\n\\t\\t\\t\\t\\t\\t\\t</div>\\n\\t\\t\\t\\t\\t\\t</a>\\n\\t\\t\\t\\t\\t\\t<a class=\"site_exam\" href=\"http://blog.kakaocorp.co.kr/\" target=\"_blank\">\\n\\t\\t\\t\\t\\t\\t\\t<div class=\"wrap_thumb\">\\n\\t\\t\\t\\t\\t\\t\\t\\t<img width=\"528\" height=\"396\" src=\"https://img1.daumcdn.net/thumb/C1200x900/?scode=mtistory2&fname=https%3A%2F%2Ft1.daumcdn.net%2Ftistory_admin%2Fassets%2Fpromotions%2F9a80c95f057b40f6a00a934ba7d2c4fe\" class=\"thumb_g\" alt=\"\" />\\n\\t\\t\\t\\t\\t\\t\\t</div>\\n\\t\\t\\t\\t\\t\\t\\t<div class=\"info_exam\">\\n\\t\\t\\t\\t\\t\\t\\t\\t<strong class=\"tit_exam\">카카오 소셜임팩트 블로그</strong>\\n\\t\\t\\t\\t\\t\\t\\t\\t<p class=\"txt_exam\">카카오 소셜임팩트 블로그</p>\\n\\t\\t\\t\\t\\t\\t\\t\\t<span class=\"link_exam\">http://blog.kakaocorp.co.kr/<span class=\"img_top ico_view\"></span></span>\\n\\t\\t\\t\\t\\t\\t\\t</div>\\n\\t\\t\\t\\t\\t\\t</a>\\n\\t\\t\\t\\t\\t\\t<a class=\"site_exam\" href=\"http://www.limarchitects.co.kr\" target=\"_blank\">\\n\\t\\t\\t\\t\\t\\t\\t<div class=\"wrap_thumb\">\\n\\t\\t\\t\\t\\t\\t\\t\\t<img width=\"528\" height=\"396\" src=\"https://img1.daumcdn.net/thumb/C1200x900/?scode=mtistory2&fname=http%3A%2F%2Fcfile7.uf.tistory.com%2Fimage%2F99A4473B5BB2C7051202A8\" class=\"thumb_g\" alt=\"\" />\\n\\t\\t\\t\\t\\t\\t\\t</div>\\n\\t\\t\\t\\t\\t\\t\\t<div class=\"info_exam\">\\n\\t\\t\\t\\t\\t\\t\\t\\t<strong class=\"tit_exam\">LIM ARCHITECTS.</strong>\\n\\t\\t\\t\\t\\t\\t\\t\\t<p class=\"txt_exam\">대구 젊은 건축가 그룹 건축사사무소 엘아이엠.<br>대구 건축 설계, 컨설팅, 인테리어</p>\\n\\t\\t\\t\\t\\t\\t\\t\\t<span class=\"link_exam\">http://www.limarchitects.co.kr<span class=\"img_top ico_view\"></span></span>\\n\\t\\t\\t\\t\\t\\t\\t</div>\\n\\t\\t\\t\\t\\t\\t</a>\\n\\t\\t\\t\\t\\t\\t<a class=\"site_exam\" href=\"https://hygphoto.tistory.com/\" target=\"_blank\">\\n\\t\\t\\t\\t\\t\\t\\t<div class=\"wrap_thumb\">\\n\\t\\t\\t\\t\\t\\t\\t\\t<img width=\"528\" height=\"396\" src=\"https://img1.daumcdn.net/thumb/C1200x900/?scode=mtistory2&fname=http%3A%2F%2Fcfile2.uf.tistory.com%2Fimage%2F99D6CF405BB2C6B824A969\" class=\"thumb_g\" alt=\"\" />\\n\\t\\t\\t\\t\\t\\t\\t</div>\\n\\t\\t\\t\\t\\t\\t\\t<div class=\"info_exam\">\\n\\t\\t\\t\\t\\t\\t\\t\\t<strong class=\"tit_exam\">HYGPHOTO</strong>\\n\\t\\t\\t\\t\\t\\t\\t\\t<p class=\"txt_exam\">아름다운 일상의 한 컷</p>\\n\\t\\t\\t\\t\\t\\t\\t\\t<span class=\"link_exam\">https://hygphoto.tistory.com/<span class=\"img_top ico_view\"></span></span>\\n\\t\\t\\t\\t\\t\\t\\t</div>\\n\\t\\t\\t\\t\\t\\t</a>\\n\\t\\t\\t\\t\\t\\t<a class=\"site_exam\" href=\"http://leeheehoon.tistory.com/\" target=\"_blank\">\\n\\t\\t\\t\\t\\t\\t\\t<div class=\"wrap_thumb\">\\n\\t\\t\\t\\t\\t\\t\\t\\t<img width=\"528\" height=\"396\" src=\"https://img1.daumcdn.net/thumb/C1200x900/?scode=mtistory2&fname=https%3A%2F%2Ft1.daumcdn.net%2Ftistory_admin%2Fassets%2Fpromotions%2F72a26c24396048fa9fb668442021a18b\" class=\"thumb_g\" alt=\"\" />\\n\\t\\t\\t\\t\\t\\t\\t</div>\\n\\t\\t\\t\\t\\t\\t\\t<div class=\"info_exam\">\\n\\t\\t\\t\\t\\t\\t\\t\\t<strong class=\"tit_exam\">Beyond Perspective</strong>\\n\\t\\t\\t\\t\\t\\t\\t\\t<p class=\"txt_exam\">Lee Heehoon,<br> photographer for ohmynews Seoul S.Korea</p>\\n\\t\\t\\t\\t\\t\\t\\t\\t<span class=\"link_exam\">http://leeheehoon.tistory.com/<span class=\"img_top ico_view\"></span></span>\\n\\t\\t\\t\\t\\t\\t\\t</div>\\n\\t\\t\\t\\t\\t\\t</a>\\n\\t\\t\\t\\t\\t\\t<a class=\"site_exam\" href=\"http://www.ssgblog.com/\" target=\"_blank\">\\n\\t\\t\\t\\t\\t\\t\\t<div class=\"wrap_thumb\">\\n\\t\\t\\t\\t\\t\\t\\t\\t<img width=\"528\" height=\"396\" src=\"https://img1.daumcdn.net/thumb/C1200x900/?scode=mtistory2&fname=http%3A%2F%2Fcfile25.uf.tistory.com%2Fimage%2F99AD01345BB2C6A02A7DB7\" class=\"thumb_g\" alt=\"\" />\\n\\t\\t\\t\\t\\t\\t\\t</div>\\n\\t\\t\\t\\t\\t\\t\\t<div class=\"info_exam\">\\n\\t\\t\\t\\t\\t\\t\\t\\t<strong class=\"tit_exam\">신세계그룹<br>공식블로그</strong>\\n\\t\\t\\t\\t\\t\\t\\t\\t<p class=\"txt_exam\">신세계그룹 공식블로그에서 행복이 춤추는 일상을 만나세요!</p>\\n\\t\\t\\t\\t\\t\\t\\t\\t<span class=\"link_exam\">http://www.ssgblog.com/<span class=\"img_top ico_view\"></span></span>\\n\\t\\t\\t\\t\\t\\t\\t</div>\\n\\t\\t\\t\\t\\t\\t</a>\\n\\t\\t\\t\\t\\t\\t<a class=\"site_exam\" href=\"http://hotel990.com\" target=\"_blank\">\\n\\t\\t\\t\\t\\t\\t\\t<div class=\"wrap_thumb\">\\n\\t\\t\\t\\t\\t\\t\\t\\t<img width=\"528\" height=\"396\" src=\"https://img1.daumcdn.net/thumb/C1200x900/?scode=mtistory2&fname=http%3A%2F%2Fcfile10.uf.tistory.com%2Fimage%2F99A81B3C5BB2C6EF2C9883\" class=\"thumb_g\" alt=\"\" />\\n\\t\\t\\t\\t\\t\\t\\t</div>\\n\\t\\t\\t\\t\\t\\t\\t<div class=\"info_exam\">\\n\\t\\t\\t\\t\\t\\t\\t\\t<strong class=\"tit_exam\">HOTEL 990</strong>\\n\\t\\t\\t\\t\\t\\t\\t\\t<p class=\"txt_exam\"> WELCOME TO THE HOTEL990</p>\\n\\t\\t\\t\\t\\t\\t\\t\\t<span class=\"link_exam\">http://hotel990.com<span class=\"img_top ico_view\"></span></span>\\n\\t\\t\\t\\t\\t\\t\\t</div>\\n\\t\\t\\t\\t\\t\\t</a>\\n\\t\\t\\t\\t</div>\\n\\t\\t\\t</div>\\n\\t\\t\\t<div class=\"area_btn area_prev\">\\n\\t\\t\\t\\t<button type=\"button\" class=\"btn_tistory_type4 btn_prev slick-arrow\" style=\"\"><span class=\"img_top ico_prev\">이전</span></button>\\n\\t\\t\\t</div>\\n\\t\\t\\t<div class=\"area_btn area_next\">\\n\\t\\t\\t\\t<button type=\"button\" class=\"btn_tistory_type4 btn_next slick-arrow\" style=\"\"><span class=\"img_top ico_next\">다음</span></button>\\n\\t\\t\\t</div>\\n\\t\\t</div>\\n\\t\\t<div class=\"relative_list\">\\n\\t\\t\\t\\t<a class=\"wrap_logo\" style=\"background-image:url(https://img1.daumcdn.net/thumb/R300x100/?scode=mtistory2&fname=http%3A%2F%2Fcfile24.uf.tistory.com%2Fimage%2F9950223C5BB2C57B2225FF)\" target=\"_blank\" href=\"http://blog.ibk.co.kr\">IBK 기업은행 블로그</a>\\n\\t\\t\\t\\t<a class=\"wrap_logo\" style=\"background-image:url(https://img1.daumcdn.net/thumb/R300x100/?scode=mtistory2&fname=http%3A%2F%2Fcfile23.uf.tistory.com%2Fimage%2F991B033C5BB2C59024121E)\" target=\"_blank\" href=\"http://www.witheverland.com\">withEverland</a>\\n\\t\\t\\t\\t<a class=\"wrap_logo\" style=\"background-image:url(https://img1.daumcdn.net/thumb/R300x100/?scode=mtistory2&fname=http%3A%2F%2Fcfile6.uf.tistory.com%2Fimage%2F993E8D385BB2C56B27DC1E)\" target=\"_blank\" href=\"http://blog.cj.net\">Channel CJ</a>\\n\\t\\t\\t\\t<a class=\"wrap_logo\" style=\"background-image:url(https://img1.daumcdn.net/thumb/R300x100/?scode=mtistory2&fname=http%3A%2F%2Fcfile27.uf.tistory.com%2Fimage%2F99A6963C5BB2C5C32AB7FC)\" target=\"_blank\" href=\"http://thehyundaiblog.com\">현대백화점 공식블로그</a>\\n\\t\\t\\t\\t<a class=\"wrap_logo\" style=\"background-image:url(https://img1.daumcdn.net/thumb/R300x100/?scode=mtistory2&fname=http%3A%2F%2Fcfile27.uf.tistory.com%2Fimage%2F9989ED3B5BB2C5D3287867)\" target=\"_blank\" href=\"http://blogdegalleria.tistory.com\">갤러리아 공식블로그 \\'BLOG DE GALLERIA\\'</a>\\n\\t\\t\\t\\t<a class=\"wrap_logo\" style=\"background-image:url(https://img1.daumcdn.net/thumb/R300x100/?scode=mtistory2&fname=http%3A%2F%2Fcfile10.uf.tistory.com%2Fimage%2F9959C2335BB2C55318B849)\" target=\"_blank\" href=\"http://blogview.hyundaicardcapital.com\">현대카드 현대캐피탈 블로그</a>\\n\\t\\t</div>\\n\\t</div>\\n\\t<div class=\"section_content section_skin\">\\n\\t\\t<h2 class=\"screen_out\">스킨고르기</h2>\\n\\t\\t<div class=\"wrap_tit wrap_tit_type1\">\\n\\t\\t\\t<strong class=\"tit_section\">마음에 드는<em><span class=\"img_square\">스킨</span>고르기</em>부터 시작해보세요</strong>\\n\\t\\t\\t<p class=\"desc_section\">티스토리는 얼굴이 없어요. <br>당신이 얼굴을 직접 제작할 수 있도록 다양한 스킨을 제공할 뿐이에요.</p>\\n\\t\\t</div>\\n\\t\\t<div class=\"icon_tistory icon_expression\"></div>\\n\\t\\t<div class=\"wrap_tit\">\\n\\t\\t\\t<strong class=\"tit_section tit_section_type2\">마음대로<br><em>조립하는</em><br>내 콘텐츠</strong>\\n\\t\\t\\t<p class=\"desc_section\">내 마음대로 위치를 바꿔<br>하나의 커버로도 전혀 다른 스킨을<br> 만들 수 있어요.</p>\\n\\t\\t</div>\\n\\t\\t<div class=\"box_skin\">\\n\\t\\t\\t<div class=\"wrap_thumb_skin_01\">\\n\\t\\t\\t\\t<span class=\"\" style=\"background-image:url(//t1.daumcdn.net/tistory_admin/static/top/pc/thumb_skin1_1.jpg);\"></span>\\n\\t\\t\\t\\t<span class=\"\" style=\"background-image:url(//t1.daumcdn.net/tistory_admin/static/top/pc/thumb_skin1_2.jpg);\"></span>\\n\\t\\t\\t\\t<span class=\"\" style=\"background-image:url(//t1.daumcdn.net/tistory_admin/static/top/pc/thumb_skin1_3.jpg);\"></span>\\n\\t\\t\\t\\t<span class=\"\" style=\"background-image:url(//t1.daumcdn.net/tistory_admin/static/top/pc/thumb_skin1_1.jpg);\"></span>\\n\\t\\t\\t\\t<span class=\"\" style=\"background-image:url(//t1.daumcdn.net/tistory_admin/static/top/pc/thumb_skin1_2.jpg);\"></span>\\n\\t\\t\\t\\t<span class=\"\" style=\"background-image:url(//t1.daumcdn.net/tistory_admin/static/top/pc/thumb_skin1_3.jpg);\"></span>\\n\\t\\t\\t</div>\\n\\t\\t\\t<div class=\"wrap_thumb_skin_02\">\\n\\t\\t\\t\\t<div class=\"inner_thumb\">\\n\\t\\t\\t\\t\\t<span class=\" _left\" style=\"background-image:url(//t1.daumcdn.net/tistory_admin/static/top/pc/thumb_skin2_1.jpg);height:140px\" data-index=\"1\"></span>\\n\\t\\t\\t\\t\\t<span class=\" _left\" style=\"background-image:url(//t1.daumcdn.net/tistory_admin/static/top/pc/thumb_skin2_2.jpg);height:150px\" data-index=\"2\"></span>\\n\\t\\t\\t\\t\\t<span class=\" _left\" style=\"background-image:url(//t1.daumcdn.net/tistory_admin/static/top/pc/thumb_skin2_3.jpg);height:432px\" data-index=\"3\"></span>\\n\\t\\t\\t\\t\\t<span class=\" _right\" style=\"background-image:url(//t1.daumcdn.net/tistory_admin/static/top/pc/thumb_skin2_3.jpg);height:432px\" data-index=\"1\"></span>\\n\\t\\t\\t\\t\\t<span class=\" _right\" style=\"background-image:url(//t1.daumcdn.net/tistory_admin/static/top/pc/thumb_skin2_2.jpg);height:150px\" data-index=\"2\"></span>\\n\\t\\t\\t\\t\\t<span class=\" _right\" style=\"background-image:url(//t1.daumcdn.net/tistory_admin/static/top/pc/thumb_skin2_1.jpg);height:140px\" data-index=\"3\"></span>\\n\\t\\t\\t\\t</div>\\n\\t\\t\\t</div>\\n\\t\\t</div>\\n\\t\\t<a href=\"/skin/pg_Poster\" class=\"link_section\">\\n\\t\\t\\t<strong class=\"tit_link\">Poster</strong>\\n\\t\\t\\t<span class=\"desc_link\">스킨 보기</span>\\n\\t\\t\\t<span class=\"img_top ico_link_arrow\"></span>\\n\\t\\t</a>\\n\\t</div>\\n\\t<div class=\"section_content section_photo\">\\n\\t\\t<h2 class=\"screen_out\">사진변경</h2>\\n\\t\\t<div class=\"wrap_tit\">\\n\\t\\t\\t<strong class=\"tit_section tit_section_type2\"><em>사진만 바꾸어도</em><br>다른 분위기</strong>\\n\\t\\t\\t<p class=\"desc_section\">스킨은 그저 캔버스일 뿐입니다.<br>스킨 속 같은 커버라도 이미지에 따라<br>전혀 다른 분위기를 연출할 수 있어요. </p>\\n\\t\\t</div>\\n\\t\\t<div class=\"wrap_photo_skin\">\\n\\t\\t\\t<div class=\"photo_skin\">\\n\\t\\t\\t\\t<div class=\"skin_move\">\\n\\t\\t\\t\\t\\t<span class=\"bg_img\" style=\"background-image:url(//t1.daumcdn.net/tistory_admin/static/top/pc/photo_skin01.jpg);\"></span>\\n\\t\\t\\t\\t\\t<span class=\"bg_img\" style=\"background-image:url(//t1.daumcdn.net/tistory_admin/static/top/pc/photo_skin03.jpg);\"></span>\\n\\t\\t\\t\\t</div>\\n\\t\\t\\t\\t<div class=\"box_img_skin\">\\n\\t\\t\\t\\t\\t<div class=\"wrap_skin\">\\n\\t\\t\\t\\t\\t\\t<div class=\"skin_move\">\\n\\t\\t\\t\\t\\t\\t\\t<span class=\"bg_img_sm\" style=\"background-image:url(//t1.daumcdn.net/tistory_admin/static/top/pcrtn/photo_skin01_sm.jpg);\"></span>\\n\\t\\t\\t\\t\\t\\t\\t<span class=\"bg_img_sm\" style=\"background-image:url(//t1.daumcdn.net/tistory_admin/static/top/pcrtn/photo_skin03_sm.jpg);\"></span>\\n\\t\\t\\t\\t\\t\\t</div>\\n\\t\\t\\t\\t\\t</div>\\n\\t\\t\\t\\t\\t<div class=\"wrap_skin\">\\n\\t\\t\\t\\t\\t\\t<div class=\"txt_img_skin\" style=\"background-image:url(//t1.daumcdn.net/tistory_admin/static/top/pcrtn/photo_skin_txt02.png);\"></div>\\n\\t\\t\\t\\t\\t\\t<div class=\"txt_img_skin\" style=\"background-image:url(//t1.daumcdn.net/tistory_admin/static/top/pcrtn/photo_skin_txt04.png);\"></div>\\n\\t\\t\\t\\t\\t</div>\\n\\t\\t\\t\\t</div>\\n\\t\\t\\t</div>\\n\\t\\t\\t<div class=\"photo_skin\">\\n\\t\\t\\t\\t<div class=\"skin_move\">\\n\\t\\t\\t\\t\\t<span class=\"bg_img\" style=\"background-image:url(//t1.daumcdn.net/tistory_admin/static/top/pc/photo_skin02.jpg);\"></span>\\n\\t\\t\\t\\t\\t<span class=\"bg_img\" style=\"background-image:url(//t1.daumcdn.net/tistory_admin/static/top/pc/photo_skin04.jpg);\"></span>\\n\\t\\t\\t\\t</div>\\n\\t\\t\\t\\t<div class=\"box_img_skin\">\\n\\t\\t\\t\\t\\t<div class=\"wrap_skin\" >\\n\\t\\t\\t\\t\\t\\t<div class=\"txt_img_skin\" style=\"background-image:url(//t1.daumcdn.net/tistory_admin/static/top/pcrtn/photo_skin_txt01.png);\"></div>\\n\\t\\t\\t\\t\\t\\t<div class=\"txt_img_skin\" style=\"background-image:url(//t1.daumcdn.net/tistory_admin/static/top/pcrtn/photo_skin_txt03.png);\"></div>\\n\\t\\t\\t\\t\\t</div>\\n\\t\\t\\t\\t\\t<div class=\"wrap_skin\">\\n\\t\\t\\t\\t\\t\\t<div class=\"skin_move\">\\n\\t\\t\\t\\t\\t\\t\\t<span class=\"bg_img_sm\" style=\"background-image:url(//t1.daumcdn.net/tistory_admin/static/top/pcrtn/photo_skin02_sm.jpg);\"></span>\\n\\t\\t\\t\\t\\t\\t\\t<span class=\"bg_img_sm\" style=\"background-image:url(//t1.daumcdn.net/tistory_admin/static/top/pcrtn/photo_skin04_sm.jpg);\"></span>\\n\\t\\t\\t\\t\\t\\t</div>\\n\\t\\t\\t\\t\\t</div>\\n\\t\\t\\t\\t</div>\\n\\t\\t\\t</div>\\n\\t\\t</div>\\n\\t\\t<a href=\"/skin/pg_Whatever\" class=\"link_section\">\\n\\t\\t\\t<strong class=\"tit_link\">Whatever</strong>\\n\\t\\t\\t<span class=\"desc_link\">스킨 보기</span>\\n\\t\\t\\t<span class=\"img_top ico_link_arrow\"></span>\\n\\t\\t</a>\\n\\t</div>\\n\\t<div class=\"section_content section_magazine\"><!-- 모션 진행시 \\'rolling_up\\' 클래스 추가 -->\\n\\t\\t<h2 class=\"screen_out\">블로그와 매거진처럼 </h2>\\n\\t\\t<div class=\"wrap_tit\">\\n\\t\\t\\t<strong class=\"tit_section tit_section_type2\">때로는 <em>블로그</em>처럼,<br>때로는 <em>매거진</em>처럼</strong>\\n\\t\\t\\t<p class=\"desc_section\">복잡하지 않으면서 깔끔한 스킨 커버로<br>콘텐츠에 힘을 실어 줄 수 있습니다.</p>\\n\\t\\t</div>\\n\\t\\t<div class=\"bg_magazine\" style=\"background-image:url(//t1.daumcdn.net/tistory_admin/static/top/pc/magazin_01.jpg);\">\\n\\t\\t\\t<div class=\"bg_magazine inner_bg\" style=\"background-image:url(//t1.daumcdn.net/tistory_admin/static/top/pc/magazin_02.jpg);\"></div>\\n\\t\\t</div>\\n\\t\\t<div class=\"box_magazine\" style=\"background-image:url(//t1.daumcdn.net/tistory_admin/static/top/pcrtn/magazine_header.jpg\">\\n\\t\\t\\t<div class=\"inner_box\">\\n\\t\\t\\t\\t<img src=\"//t1.daumcdn.net/tistory_admin/static/top/pc/magazine_sm.jpg\" class=\"thumb_magazine\" width=\"540\" alt=\"\">\\n\\t\\t\\t</div>\\n\\t\\t</div>\\n\\t\\t<a href=\"/skin/xf_Letter\" class=\"link_section\">\\n\\t\\t\\t<strong class=\"tit_link\">Letter</strong>\\n\\t\\t\\t<span class=\"desc_link\">스킨 보기</span>\\n\\t\\t\\t<span class=\"img_top ico_link_arrow\"></span>\\n\\t\\t</a>\\n\\t</div>\\n\\t<div class=\"section_content section_guide\">\\n\\t\\t<h2 class=\"screen_out\">이용 가이드</h2>\\n\\t\\t<div class=\"inner_section\">\\n\\t\\t\\t<strong class=\"tit_guide\">더 잘 쓰고 싶어요?</strong>\\n\\t\\t\\t<div class=\"info_guide\">\\n\\t\\t\\t\\t    <a href=\"https://notice.tistory.com/1797\" target=\"_blank\" class=\"link_guide\">당신의 티스토리에 다양한 <em>플러그인</em>을 <br>사용할 수 있어요.</a>\\n\\t\\t\\t\\t    <a href=\"https://notice.tistory.com/2444\" target=\"_blank\" class=\"link_guide\">사이트 보안을 위해 더 안전한\\xa0<br><em>암호화 접속</em>을 사용해보세요.</a>\\n\\t\\t\\t\\t    <a href=\"https://notice.tistory.com/2400\" target=\"_blank\" class=\"link_guide\">콘텐츠를 고정된 메뉴로 유지하고 싶다면 <br><em>페이지</em>를 이용해보세요.</a>\\n\\t\\t\\t\\t    <a href=\"https://notice.tistory.com/1784\" target=\"_blank\" class=\"link_guide\">나만의 <em>도메인</em>을 연결해보세요.<br>당신의 티스토리에 엣지가 생길거예요.</a>\\n\\t\\t\\t\\t    <a href=\"https://notice.tistory.com/2384\" target=\"_blank\" class=\"link_guide\"><em>로그인 보안</em>기능으로 당신의 정보와<br>콘텐츠를 안전하게 지키세요!\\xa0</a>\\n\\t\\t\\t</div>\\n\\t\\t</div>\\n\\t</div>\\n\\t<div class=\"section_content section_start\"><!-- 모션 진행시 \\'motion_start\\' 클래스 추가 -->\\n\\t\\t<h2 class=\"screen_out\">가입 안내</h2>\\n\\t\\t<div class=\"wrap_tit\">\\n\\t\\t\\t<strong class=\"tit_section\">당신도 얼마든지<br><em>시작할 수 있어요 </em></strong>\\n\\t\\t\\t<p class=\"desc_section\">이제는 초대장이 필요없어요.<br>지금 바로 당신의 공간으로 들어와 보세요.</p>\\n\\t\\t\\t<a href=\"/member/join\" class=\"btn_tistory\">가입하기</a>\\n\\t\\t\\t<span class=\"bg_door1\">\\n\\t\\t\\t\\t<span class=\"bg_door2\"></span>\\n\\t\\t\\t\\t<span class=\"bg_stair\"></span>\\n\\t\\t\\t</span>\\n\\t\\t\\t<span class=\"bg_bottom\"></span>\\n\\t\\t</div>\\n\\t</div>\\n</div>\\n\\n\\t\\t\\t\\t\\n\\t\\t\\t\\t</div>\\n\\t\\t\\t</div>\\n\\t\\t\\t<hr class=\"hide\">\\n<div id=\"daumFoot\" class=\"footer_comm\">\\n\\t<div class=\"inner_foot\">\\n\\t\\t<div class=\"cont_tistory\">\\n\\t\\t\\t<strong class=\"img_common_tistory txt_tistory\">TISTORY</strong>\\n\\t\\t\\t<p class=\"desc_footer\">티스토리는 카카오에서 <em>♥</em>을 담아 만듭니다.<br>© Kakao Corp.</p>\\n\\t\\t\\t<div class=\"search_tistory\" id=\"footerSearchContainer\">\\n\\t\\t\\t\\t<h2 class=\"screen_out\">검색</h2>\\n\\t\\t\\t\\t<form action=\"//search.daum.net/search\" target=\"_blank\" role=\"search\" method=\"get\">\\n\\t\\t\\t\\t\\t<fieldset>\\n\\t\\t\\t\\t\\t\\t<legend class=\"screen_out\">티스토리 검색</legend>\\n\\t\\t\\t\\t\\t\\t<input type=\"hidden\" name=\"w\" value=\"blog\">\\n\\t\\t\\t\\t\\t\\t<input type=\"hidden\" name=\"f\" value=\"section\">\\n\\t\\t\\t\\t\\t\\t<input type=\"hidden\" name=\"SA\" value=\"tistory\">\\n\\t\\t\\t\\t\\t\\t<input type=\"hidden\" name=\"lpp\" value=\"10\">\\n\\t\\t\\t\\t\\t\\t<input type=\"hidden\" name=\"nil_profile\" value=\"vsearch\">\\n\\t\\t\\t\\t\\t\\t<input type=\"hidden\" name=\"nil_src\" value=\"tistory\">\\n\\t\\t\\t\\t\\t\\t<div class=\"inp_text\">\\n\\t\\t\\t\\t\\t\\t\\t<input type=\"text\" id=\"footerSearchInput\" title=\"검색어입력\" placeholder=\"티스토리검색\" name=\"q\">\\n\\t\\t\\t\\t\\t\\t</div>\\n\\t\\t\\t\\t\\t\\t<button type=\"submit\" class=\"img_common_tistory btn_search\">검색</button>\\n\\t\\t\\t\\t\\t</fieldset>\\n\\t\\t\\t\\t</form>\\n\\t\\t\\t</div>\\n\\t\\t</div>\\n\\t\\t<div class=\"question_tistory\">\\n\\t\\t\\t<h2 class=\"screen_out\">문의목록</h2>\\n\\t\\t\\t<div class=\"wrap_question\">\\n\\t\\t\\t\\t<span class=\"tit_question\">메뉴가 궁금할 땐</span>\\n\\t\\t\\t\\t<ul class=\"list_question\">\\n\\t\\t\\t\\t\\t<li><a href=\"/skin\" class=\"link_txt\">스킨</a></li>\\n\\t\\t\\t\\t\\t<li><a href=\"/community/forum\" class=\"link_txt\">포럼</a></li>\\n\\t\\t\\t\\t\\t<li><a href=\"/category\" class=\"link_txt\">스토리</a></li>\\n\\t\\t\\t\\t</ul>\\n\\t\\t\\t</div>\\n\\t\\t\\t<div class=\"wrap_question\">\\n\\t\\t\\t\\t<span class=\"tit_question\">사용하다 궁금할 땐</span>\\n\\t\\t\\t\\t<ul class=\"list_question\">\\n\\t\\t\\t\\t\\t<li><a href=\"/guide/api/manage/register\" class=\"link_txt\">오픈 API</a></li>\\n\\t\\t\\t\\t\\t<li><a href=\"https://tistory.github.io/document-tistory-skin/\" class=\"link_txt\" target=\"_blank\">스킨가이드</a></li>\\n\\t\\t\\t\\t\\t<li><a href=\"https://cs.daum.net/faq/173.html\" class=\"link_txt\" target=\"_blank\">고객센터</a></li>\\n\\t\\t\\t\\t</ul>\\n\\t\\t\\t</div>\\n\\t\\t\\t<div class=\"wrap_question\">\\n\\t\\t\\t\\t<span class=\"tit_question\">정책이 궁금할 땐</span>\\n\\t\\t\\t\\t<ul class=\"list_question\">\\n\\t\\t\\t\\t\\t<li><a href=\"/info/contract\" class=\"link_txt\">이용약관</a></li>\\n\\t\\t\\t\\t\\t<li><a href=\"/info/privacy\" class=\"link_txt\"><strong>개인정보처리방침</strong></a></li>\\n\\t\\t\\t\\t\\t<li><a href=\"http://policy.daum.net/youthpolicy/youthpolicy\" class=\"link_txt\" target=\"_blank\">청소년보호정책</a></li>\\n\\t\\t\\t\\t\\t<li><a href=\"/info/openApi\" class=\"link_txt\">오픈API 이용약관</a></li>\\n\\t\\t\\t\\t\\t<li><a href=\"/info/emailPolicy\" class=\"link_txt\">Email 수집거부정책</a></li>\\n\\t\\t\\t\\t</ul>\\n\\t\\t\\t</div>\\n\\t\\t\\t<div class=\"wrap_question\">\\n\\t\\t\\t\\t<span class=\"tit_question\">도움이 필요할 땐</span>\\n\\t\\t\\t\\t<ul class=\"list_question\">\\n\\t\\t\\t\\t\\t<li><a href=\"https://cs.daum.net/redbell/top.html\" class=\"link_txt\" target=\"_blank\">권리침해신고</a></li>\\n\\t\\t\\t\\t\\t<li><a href=\"https://cs.kakao.com/conflict\" class=\"link_txt\" target=\"_blank\">상거래 피해 구제신청</a></li>\\n\\t\\t\\t\\t</ul>\\n\\t\\t\\t</div>\\n\\t\\t</div>\\n\\t</div>\\n</div>\\n\\t\\t</div>\\n\\t<script type=\"text/javascript\" src=\"//t1.daumcdn.net/tistory_admin/assets/tistory-web-top/1582014193/static/js/ext/underscore-1.9.0.min.js\"></script>\\n\\n<script src=\"//t1.daumcdn.net/tistory_admin/assets/tistory-web-top/1582014193/static/js/ext/swiper.min.js\"></script>\\n<script src=\"//t1.daumcdn.net/tistory_admin/assets/tistory-web-top/1582014193/static/js/T.js\"></script>\\n<script src=\"//t1.daumcdn.net/tistory_admin/assets/tistory-web-top/1582014193/static/js/T.util.js\"></script>\\n<script src=\"//t1.daumcdn.net/tistory_admin/assets/tistory-web-top/1582014193/static/js/T.auth.js\"></script>\\n<script src=\"//t1.daumcdn.net/tistory_admin/assets/tistory-web-top/1582014193/static/js/pc/T.p.top.js\"></script>\\n\\n\\n<script type=\"text/javascript\">\\n\\tvar _tiq = \\'undefined\\' !== typeof _tiq ? _tiq : [];\\n\\n\\t_tiq.push([\\'__setSection\\', \\'TOP\\']);\\n\\t_tiq.push([\\'__setPageName\\', \\'HOME\\']);\\n\\t_tiq.push([\\'__setParam\\', \\'puid\\', 1582629931572]);\\n\\t_tiq.push([\\'__setParam\\', \\'svcdomain\\', \\'www.tistory.com\\']);\\n\\t_tiq.push([\\'__clickOn\\']);\\n\\t_tiq.push([\\'__trackPageview\\']);\\n\\n\\t(function(d) {\\n\\t\\tvar se = d.createElement(\\'script\\'); se.type = \\'text/javascript\\'; se.async = true;\\n\\t\\tse.src = location.protocol + \\'//t1.daumcdn.net/tiara/js/td.min.js\\';\\n\\t\\tvar s = d.getElementsByTagName(\\'head\\')[0]; s.appendChild(se);\\n\\t})(document);\\n</script>\\n<script type=\"text/javascript\">\\n\\tvar Config = {\\n\\t\\tproduction: true,\\n\\t\\tservice: \\'tistory\\',\\n\\t\\tuseWriteButton: false,\\n\\t\\tuseBlogList: true\\n\\t};\\n\\n\\tvar appInfo = {\\n\\t\\tdomain: \\'tistory.com\\',\\n\\t\\ttopUrl: \\'https://www.tistory.com\\',\\n\\t\\tloginUrl: \\'https://www.tistory.com/auth/login\\',\\n\\t\\tlogoutUrl: \\'https://www.tistory.com/auth/logout\\',\\n\\t\\tmemberUrl: \\'https://www.tistory.com/member\\',\\n\\t\\tgnbBaseUrl: \\'https://www.tistory.com/accio\\',\\n\\t\\tthumbnailBaseUrl: \\'https://i1.daumcdn.net/thumb\\'\\n\\t};\\n\\n\\tvar initData = {\\n\\t};\\n\\n\\tvar production = true;\\n</script>\\n\\n    <script src=\"https://t1.daumcdn.net/tistory_admin/assets/tistory-gnb/3.1.9/gnb.min.js\"></script>\\n\\n\\t<script src=\"//t1.daumcdn.net/tistory_admin/assets/tistory-web-top/1582014193/static/js/pc/T.p.top.home.js\"></script>\\n\\n\\t<!-- IE9 이하에서 영상 슬라이드 제거 위한 조건부 스크립트 적용 -->\\n\\t<!--[if lte IE9]>\\n\\t<script type=\"text/javascript\">\\n\\t\\t(function($) {\\n\\t\\t\\tvar slideNum = $(\\'.scene_slide\\').length,\\n\\t\\t\\t\\tisVideo = $(\\'.scene_slide\\').children(\"video\").length,\\n\\t\\t\\t\\tvideoItemSlide = $(\"video\").parent(),\\n\\t\\t\\t\\tvideoItem = $(\\'video\\');\\n\\n\\t\\t\\tif(slideNum == 1){\\n\\t\\t\\t\\tif(isVideo == 1){\\n\\t\\t\\t\\t\\tvideoItem.remove();\\n\\t\\t\\t\\t}\\n\\t\\t\\t}else{\\n\\t\\t\\t\\tif(isVideo == 1){\\n\\t\\t\\t\\t\\tvideoItemSlide.remove();\\n\\t\\t\\t\\t}\\n\\t\\t\\t}\\n\\t\\t})(jQuery);\\n\\t</script>\\n\\t<![endif]-->\\n\\t\\n\\t</body>\\n\\t</html>\\n'"
      ]
     },
     "execution_count": 26,
     "metadata": {},
     "output_type": "execute_result"
    }
   ],
   "source": [
    "response.text"
   ]
  },
  {
   "cell_type": "markdown",
   "metadata": {},
   "source": [
    "# GET 요청할 때 parameter 전달법\n",
    "- params"
   ]
  },
  {
   "cell_type": "code",
   "execution_count": 28,
   "metadata": {},
   "outputs": [],
   "source": [
    "import requests\n",
    "params = {'param1': 'value1', 'param2': 'value'}\n",
    "res = requests.get(URL, params=params)"
   ]
  },
  {
   "cell_type": "code",
   "execution_count": 31,
   "metadata": {},
   "outputs": [
    {
     "data": {
      "text/plain": [
       "'https://www.tistory.com/?param1=value1&param2=value'"
      ]
     },
     "execution_count": 31,
     "metadata": {},
     "output_type": "execute_result"
    }
   ],
   "source": [
    "res.url"
   ]
  },
  {
   "cell_type": "markdown",
   "metadata": {},
   "source": [
    "# POST 요청할 때 data 전달법\n",
    "- data: params 대신 data를 사용한다.params 사용해도 됨"
   ]
  },
  {
   "cell_type": "code",
   "execution_count": 41,
   "metadata": {},
   "outputs": [],
   "source": [
    "import requests\n",
    "data = {'param1': 'value1', 'param2': 'value'} \n",
    "res = requests.post(URL, data=data)"
   ]
  },
  {
   "cell_type": "code",
   "execution_count": 42,
   "metadata": {},
   "outputs": [
    {
     "data": {
      "text/plain": [
       "'https://www.tistory.com/'"
      ]
     },
     "execution_count": 42,
     "metadata": {},
     "output_type": "execute_result"
    }
   ],
   "source": [
    "res.url"
   ]
  },
  {
   "cell_type": "markdown",
   "metadata": {},
   "source": [
    "- json"
   ]
  },
  {
   "cell_type": "code",
   "execution_count": 43,
   "metadata": {},
   "outputs": [],
   "source": [
    "import json\n",
    "data = {'outer': {'inner': 'value'}}\n",
    "res = requests.post(URL, data=json.dumps(data))"
   ]
  },
  {
   "cell_type": "code",
   "execution_count": 44,
   "metadata": {},
   "outputs": [
    {
     "data": {
      "text/plain": [
       "'https://www.tistory.com/'"
      ]
     },
     "execution_count": 44,
     "metadata": {},
     "output_type": "execute_result"
    }
   ],
   "source": [
    "res.url"
   ]
  },
  {
   "cell_type": "markdown",
   "metadata": {},
   "source": [
    "# headers 와 cookies"
   ]
  },
  {
   "cell_type": "code",
   "execution_count": 45,
   "metadata": {},
   "outputs": [],
   "source": [
    "import requests\n",
    "headers = {'Content-Type': 'application/json; charset=utf-8'}\n",
    "cookies = {'session_id': 'sorryidontcare'} \n",
    "res = requests.get(URL, headers=headers, cookies=cookies)"
   ]
  },
  {
   "cell_type": "code",
   "execution_count": 46,
   "metadata": {},
   "outputs": [
    {
     "data": {
      "text/plain": [
       "'https://www.tistory.com/'"
      ]
     },
     "execution_count": 46,
     "metadata": {},
     "output_type": "execute_result"
    }
   ],
   "source": [
    "res.url"
   ]
  },
  {
   "cell_type": "markdown",
   "metadata": {},
   "source": [
    "# POST\n",
    "- The post() method is used when you want to send some data to the server.\n",
    "- 출처: https://www.w3schools.com/python/ref_requests_post.asp"
   ]
  },
  {
   "cell_type": "code",
   "execution_count": 50,
   "metadata": {
    "scrolled": true
   },
   "outputs": [],
   "source": [
    "import requests\n",
    "url = 'https://www.w3schools.com/python/demopage.php'\n",
    "myobj = {'somekey': 'somevalue'}\n",
    "x = requests.post(url, data = myobj)"
   ]
  },
  {
   "cell_type": "code",
   "execution_count": 51,
   "metadata": {},
   "outputs": [
    {
     "data": {
      "text/plain": [
       "''"
      ]
     },
     "execution_count": 51,
     "metadata": {},
     "output_type": "execute_result"
    }
   ],
   "source": [
    "x.text"
   ]
  },
  {
   "cell_type": "markdown",
   "metadata": {},
   "source": [
    "# 응답이 JSON 포맷일경우\n",
    "- deserialize\n",
    "- 출처: https://rednooby.tistory.com/97"
   ]
  },
  {
   "cell_type": "code",
   "execution_count": 54,
   "metadata": {},
   "outputs": [],
   "source": [
    "import requests\n",
    "params = (('k1', 'v1'), ('k1', 'v3'), ('k2', 'v2'))\n",
    "response = requests.get('http://httpbin.org/get', params=params)"
   ]
  },
  {
   "cell_type": "code",
   "execution_count": 55,
   "metadata": {},
   "outputs": [
    {
     "name": "stdout",
     "output_type": "stream",
     "text": [
      "{\n",
      "  \"args\": {\n",
      "    \"k1\": [\n",
      "      \"v1\", \n",
      "      \"v3\"\n",
      "    ], \n",
      "    \"k2\": \"v2\"\n",
      "  }, \n",
      "  \"headers\": {\n",
      "    \"Accept\": \"*/*\", \n",
      "    \"Accept-Encoding\": \"gzip, deflate\", \n",
      "    \"Host\": \"httpbin.org\", \n",
      "    \"User-Agent\": \"python-requests/2.21.0\", \n",
      "    \"X-Amzn-Trace-Id\": \"Root=1-5e550a9f-61d3f3c0558f0b8085af0290\"\n",
      "  }, \n",
      "  \"origin\": \"180.224.172.210\", \n",
      "  \"url\": \"http://httpbin.org/get?k1=v1&k1=v3&k2=v2\"\n",
      "}\n",
      "\n"
     ]
    }
   ],
   "source": [
    "print(response.text)"
   ]
  },
  {
   "cell_type": "code",
   "execution_count": 57,
   "metadata": {},
   "outputs": [
    {
     "name": "stdout",
     "output_type": "stream",
     "text": [
      "{'args': {'k1': ['v1', 'v3'], 'k2': 'v2'}, 'headers': {'Accept': '*/*', 'Accept-Encoding': 'gzip, deflate', 'Host': 'httpbin.org', 'User-Agent': 'python-requests/2.21.0', 'X-Amzn-Trace-Id': 'Root=1-5e550a9f-61d3f3c0558f0b8085af0290'}, 'origin': '180.224.172.210', 'url': 'http://httpbin.org/get?k1=v1&k1=v3&k2=v2'}\n"
     ]
    }
   ],
   "source": [
    "import json\n",
    "print(json.loads(response.text))"
   ]
  },
  {
   "cell_type": "code",
   "execution_count": 58,
   "metadata": {},
   "outputs": [
    {
     "name": "stdout",
     "output_type": "stream",
     "text": [
      "{'k1': ['v1', 'v3'], 'k2': 'v2'}\n"
     ]
    }
   ],
   "source": [
    "print(json.loads(response.text)['args'])"
   ]
  },
  {
   "cell_type": "code",
   "execution_count": 59,
   "metadata": {},
   "outputs": [
    {
     "name": "stdout",
     "output_type": "stream",
     "text": [
      "{'args': {'k1': ['v1', 'v3'], 'k2': 'v2'}, 'headers': {'Accept': '*/*', 'Accept-Encoding': 'gzip, deflate', 'Host': 'httpbin.org', 'User-Agent': 'python-requests/2.21.0', 'X-Amzn-Trace-Id': 'Root=1-5e550a9f-61d3f3c0558f0b8085af0290'}, 'origin': '180.224.172.210', 'url': 'http://httpbin.org/get?k1=v1&k1=v3&k2=v2'}\n"
     ]
    }
   ],
   "source": [
    "print(response.json())"
   ]
  },
  {
   "cell_type": "code",
   "execution_count": 60,
   "metadata": {},
   "outputs": [
    {
     "name": "stdout",
     "output_type": "stream",
     "text": [
      "{'k1': ['v1', 'v3'], 'k2': 'v2'}\n"
     ]
    }
   ],
   "source": [
    "print(response.json()['args'])"
   ]
  },
  {
   "cell_type": "markdown",
   "metadata": {},
   "source": [
    "# Headers"
   ]
  },
  {
   "cell_type": "code",
   "execution_count": 62,
   "metadata": {},
   "outputs": [],
   "source": [
    "import requests\n",
    "request_headers = {\n",
    "    'User-Agent': ('Mozilla/5.0 (Macintosh; Intel Mac OS X 10_12_6) AppleWebKit/537.36 '\n",
    "                   '(KHTML, like Gecko) Chrome/58.0.3029.110 Safari/537.36'),\n",
    "    'Referer': 'http://httpbin.org',\n",
    "}\n",
    "\n",
    "params = {'k1': 'v1', 'k2': 'v2'}\n",
    "response = requests.post(\n",
    "    'http://httpbin.org/post',\n",
    "    headers=request_headers,\n",
    "    params=params)"
   ]
  },
  {
   "cell_type": "code",
   "execution_count": 63,
   "metadata": {},
   "outputs": [
    {
     "name": "stdout",
     "output_type": "stream",
     "text": [
      "<Response [200]>\n"
     ]
    }
   ],
   "source": [
    "print(response)"
   ]
  },
  {
   "cell_type": "markdown",
   "metadata": {},
   "source": [
    "# JSON POST 요청"
   ]
  },
  {
   "cell_type": "code",
   "execution_count": 65,
   "metadata": {},
   "outputs": [
    {
     "name": "stdout",
     "output_type": "stream",
     "text": [
      "<Response [200]>\n",
      "{'args': {}, 'data': '{\"k1\": \"v2\", \"k2\": [1, 2, 3], \"name\": \"rednooby\"}', 'files': {}, 'form': {}, 'headers': {'Accept': '*/*', 'Accept-Encoding': 'gzip, deflate', 'Content-Length': '49', 'Content-Type': 'application/json', 'Host': 'httpbin.org', 'User-Agent': 'python-requests/2.21.0', 'X-Amzn-Trace-Id': 'Root=1-5e550cb9-05bbd70c87385701b6a4c918'}, 'json': {'k1': 'v2', 'k2': [1, 2, 3], 'name': 'rednooby'}, 'origin': '180.224.172.210', 'url': 'http://httpbin.org/post'}\n"
     ]
    }
   ],
   "source": [
    "import requests\n",
    "import json\n",
    " \n",
    "json_data = {'k1': 'v2', 'k2': [1,2,3], 'name': 'rednooby'}\n",
    " \n",
    "# json포맷 문자열로 변환 후, data인자로 지정\n",
    "json_string = json.dumps(json_data)#문자열로 변환\n",
    "response = requests.post('http://httpbin.org/post', data=json_data)#서버로 보낸다\n",
    "\n",
    "response = requests.post('http://httpbin.org/post', json=json_data)\n",
    "#json= 으로 처리해주면 내부에서 자동으로 json.dump 처리를 하기때문에 7째줄이 필요없겠죠\n",
    "print(response)\n",
    "print(response.json())"
   ]
  },
  {
   "cell_type": "code",
   "execution_count": null,
   "metadata": {},
   "outputs": [],
   "source": []
  },
  {
   "cell_type": "code",
   "execution_count": null,
   "metadata": {},
   "outputs": [],
   "source": []
  }
 ],
 "metadata": {
  "kernelspec": {
   "display_name": "Python 3",
   "language": "python",
   "name": "python3"
  },
  "language_info": {
   "codemirror_mode": {
    "name": "ipython",
    "version": 3
   },
   "file_extension": ".py",
   "mimetype": "text/x-python",
   "name": "python",
   "nbconvert_exporter": "python",
   "pygments_lexer": "ipython3",
   "version": "3.7.3"
  }
 },
 "nbformat": 4,
 "nbformat_minor": 2
}
